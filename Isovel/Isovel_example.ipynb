{
 "cells": [
  {
   "cell_type": "markdown",
   "metadata": {},
   "source": [
    "Here to run the code and try things \n",
    "\n",
    "Wiii\n"
   ]
  },
  {
   "cell_type": "code",
   "execution_count": 2,
   "metadata": {},
   "outputs": [],
   "source": [
    "import numpy as np\n",
    "import fit_shape"
   ]
  },
  {
   "cell_type": "code",
   "execution_count": null,
   "metadata": {
    "tags": []
   },
   "outputs": [],
   "source": [
    "# Here we make a fit to the 12 CO surface of the disk J1615\n",
    "# input order must be: path, name, d, vlsr, z0, psi, PA, inc, ...\n",
    "\n",
    "dicti = fit_shape.fit_Gas('/Volumes/Transcend/J1615_2020/DataWork/Results/CO/',\n",
    "                    'J1615_12CO_im_uv006_', \n",
    "                    157.68, 4744.61, 0.2471, 1.1814, 325.03, 46.883, mstar=1.183, x0=0, y0=0,\n",
    "                    r_min=1.5, r_max=2.3, downsample=25, clip=3, nwalkers=50, nburnin=500,nsteps=1500, beam=False, just_results=True)\n",
    "                    "
   ]
  },
  {
   "cell_type": "code",
   "execution_count": 116,
   "metadata": {},
   "outputs": [
    {
     "output_type": "execute_result",
     "data": {
      "text/plain": "(0.008060039537431545, -0.007745213847745364)"
     },
     "metadata": {},
     "execution_count": 116
    }
   ],
   "source": [
    "x0, y0"
   ]
  },
  {
   "cell_type": "code",
   "execution_count": 115,
   "metadata": {},
   "outputs": [],
   "source": [
    "mstar = dicti.get('mstar')\n",
    "pa = dicti.get('PA')\n",
    "inc = dicti.get('inc')\n",
    "z0 = dicti.get('z0')\n",
    "psi = dicti.get('psi')\n",
    "vlsr = dicti.get('vlsr')/1000\n",
    "\n",
    "x0 = dicti.get('x0')\n",
    "y0 = dicti.get('y0')\n"
   ]
  },
  {
   "cell_type": "code",
   "execution_count": 32,
   "metadata": {},
   "outputs": [
    {
     "output_type": "execute_result",
     "data": {
      "text/plain": "(1.2047920150052118,\n 325.15077530944075,\n 46.41703391829195,\n 0.2494024079038776,\n 1.211576566441788,\n 4.741979863714648)"
     },
     "metadata": {},
     "execution_count": 32
    }
   ],
   "source": [
    "mstar, pa, inc, z0, psi, vlsr =(1.2047920150052118, 325.15077530944075, 46.41703391829195, 0.2494024079038776, 1.211576566441788, 4.741979863714648)"
   ]
  },
  {
   "cell_type": "code",
   "execution_count": 14,
   "metadata": {
    "tags": []
   },
   "outputs": [
    {
     "output_type": "execute_result",
     "data": {
      "text/plain": "6"
     },
     "metadata": {},
     "execution_count": 14
    }
   ],
   "source": [
    "vels_lev = np.array([3,3.7,4.4,5.1,5.8,6.5])"
   ]
  },
  {
   "cell_type": "code",
   "execution_count": 111,
   "metadata": {},
   "outputs": [],
   "source": [
    "from Isovel import Isovel "
   ]
  },
  {
   "cell_type": "code",
   "execution_count": 112,
   "metadata": {
    "tags": []
   },
   "outputs": [],
   "source": [
    "Isovel_disk = Isovel(mstar, pa, inc, z0, psi, vlsr, vels_lev)"
   ]
  },
  {
   "cell_type": "code",
   "execution_count": 113,
   "metadata": {},
   "outputs": [
    {
     "output_type": "execute_result",
     "data": {
      "text/plain": "Isovel.Isovel"
     },
     "metadata": {},
     "execution_count": 113
    }
   ],
   "source": [
    "Isovel"
   ]
  },
  {
   "cell_type": "code",
   "execution_count": 114,
   "metadata": {},
   "outputs": [
    {
     "output_type": "error",
     "ename": "ValueError",
     "evalue": "The truth value of an array with more than one element is ambiguous. Use a.any() or a.all()",
     "traceback": [
      "\u001b[0;31m---------------------------------------------------------------------------\u001b[0m",
      "\u001b[0;31mValueError\u001b[0m                                Traceback (most recent call last)",
      "\u001b[0;32m<ipython-input-114-2d7aa60c7eb5>\u001b[0m in \u001b[0;36m<module>\u001b[0;34m\u001b[0m\n\u001b[0;32m----> 1\u001b[0;31m \u001b[0mvel_thin\u001b[0m\u001b[0;34m,\u001b[0m \u001b[0mvel_front\u001b[0m\u001b[0;34m,\u001b[0m \u001b[0mvel_back\u001b[0m \u001b[0;34m=\u001b[0m \u001b[0mIsovel_disk\u001b[0m\u001b[0;34m.\u001b[0m\u001b[0mcalculate_vel\u001b[0m\u001b[0;34m(\u001b[0m\u001b[0;34m)\u001b[0m\u001b[0;34m\u001b[0m\u001b[0;34m\u001b[0m\u001b[0m\n\u001b[0m",
      "\u001b[0;32m~/Isovel/Isovel/Isovel.py\u001b[0m in \u001b[0;36mcalculate_vel\u001b[0;34m(self)\u001b[0m\n\u001b[1;32m    169\u001b[0m         \u001b[0mtt_front\u001b[0m\u001b[0;34m,\u001b[0m \u001b[0mtt_back\u001b[0m \u001b[0;34m=\u001b[0m \u001b[0mself\u001b[0m\u001b[0;34m.\u001b[0m\u001b[0msurface_projection\u001b[0m\u001b[0;34m(\u001b[0m\u001b[0mx_dep\u001b[0m\u001b[0;34m,\u001b[0m \u001b[0my_dep\u001b[0m\u001b[0;34m)\u001b[0m\u001b[0;34m\u001b[0m\u001b[0;34m\u001b[0m\u001b[0m\n\u001b[1;32m    170\u001b[0m \u001b[0;34m\u001b[0m\u001b[0m\n\u001b[0;32m--> 171\u001b[0;31m         \u001b[0minc\u001b[0m \u001b[0;34m=\u001b[0m \u001b[0mnp\u001b[0m\u001b[0;34m.\u001b[0m\u001b[0mradians\u001b[0m\u001b[0;34m(\u001b[0m\u001b[0mself\u001b[0m\u001b[0;34m.\u001b[0m\u001b[0minc\u001b[0m\u001b[0;34m)\u001b[0m\u001b[0;34m\u001b[0m\u001b[0;34m\u001b[0m\u001b[0m\n\u001b[0m\u001b[1;32m    172\u001b[0m \u001b[0;34m\u001b[0m\u001b[0m\n\u001b[1;32m    173\u001b[0m         \u001b[0myy_front\u001b[0m \u001b[0;34m=\u001b[0m \u001b[0my_dep\u001b[0m \u001b[0;34m+\u001b[0m \u001b[0mtt_front\u001b[0m\u001b[0;34m*\u001b[0m\u001b[0mnp\u001b[0m\u001b[0;34m.\u001b[0m\u001b[0msin\u001b[0m\u001b[0;34m(\u001b[0m\u001b[0minc\u001b[0m\u001b[0;34m)\u001b[0m\u001b[0;34m\u001b[0m\u001b[0;34m\u001b[0m\u001b[0m\n",
      "\u001b[0;32m~/Isovel/Isovel/Isovel.py\u001b[0m in \u001b[0;36mcilindrical_coords\u001b[0;34m(self, xx, yy, zz)\u001b[0m\n\u001b[1;32m     90\u001b[0m \u001b[0;34m\u001b[0m\u001b[0m\n\u001b[1;32m     91\u001b[0m \u001b[0;34m\u001b[0m\u001b[0m\n\u001b[0;32m---> 92\u001b[0;31m     \u001b[0;32mdef\u001b[0m \u001b[0mcilindrical_coords\u001b[0m\u001b[0;34m(\u001b[0m\u001b[0mself\u001b[0m\u001b[0;34m,\u001b[0m \u001b[0mxx\u001b[0m\u001b[0;34m,\u001b[0m \u001b[0myy\u001b[0m\u001b[0;34m,\u001b[0m \u001b[0mzz\u001b[0m\u001b[0;34m,\u001b[0m \u001b[0mDim_3\u001b[0m \u001b[0;34m=\u001b[0m \u001b[0;32mFalse\u001b[0m\u001b[0;34m)\u001b[0m\u001b[0;34m:\u001b[0m\u001b[0;34m\u001b[0m\u001b[0;34m\u001b[0m\u001b[0m\n\u001b[0m\u001b[1;32m     93\u001b[0m         \u001b[0;32mif\u001b[0m \u001b[0;32mnot\u001b[0m \u001b[0mDim_3\u001b[0m\u001b[0;34m:\u001b[0m\u001b[0;34m\u001b[0m\u001b[0;34m\u001b[0m\u001b[0m\n\u001b[1;32m     94\u001b[0m             \u001b[0mrr\u001b[0m \u001b[0;34m=\u001b[0m \u001b[0mnp\u001b[0m\u001b[0;34m.\u001b[0m\u001b[0msqrt\u001b[0m\u001b[0;34m(\u001b[0m\u001b[0mxx\u001b[0m\u001b[0;34m**\u001b[0m\u001b[0;36m2\u001b[0m \u001b[0;34m+\u001b[0m \u001b[0myy\u001b[0m\u001b[0;34m**\u001b[0m\u001b[0;36m2\u001b[0m\u001b[0;34m)\u001b[0m\u001b[0;34m*\u001b[0m\u001b[0mself\u001b[0m\u001b[0;34m.\u001b[0m\u001b[0mpix_to_au\u001b[0m \u001b[0;31m# au\u001b[0m\u001b[0;34m\u001b[0m\u001b[0;34m\u001b[0m\u001b[0m\n",
      "\u001b[0;31mValueError\u001b[0m: The truth value of an array with more than one element is ambiguous. Use a.any() or a.all()"
     ]
    }
   ],
   "source": [
    "vel_thin, vel_front, vel_back = Isovel_disk.calculate_vel()"
   ]
  },
  {
   "cell_type": "code",
   "execution_count": null,
   "metadata": {},
   "outputs": [],
   "source": [
    "print(vel_thin, vel_front, vel_back)"
   ]
  },
  {
   "cell_type": "code",
   "execution_count": null,
   "metadata": {},
   "outputs": [],
   "source": []
  },
  {
   "cell_type": "code",
   "execution_count": 118,
   "metadata": {},
   "outputs": [],
   "source": [
    "def isovel(phi, border, i, pa):\n",
    "        # projected coordinates (should be xprime, yprime)\n",
    "    nx, ny = (300,300)\n",
    "    xp = np.linspace(-Rmax, Rmax, nx)\n",
    "    yp = np.linspace(-Rmax, Rmax, ny)\n",
    "    xxp, yyp = np.meshgrid(xp, yp)\n",
    "\n",
    "        ###########################################################\n",
    "        # Thin disk -> flat\n",
    "\n",
    "        # deprojected coords y = yp/cosi\n",
    "    xx = xxp#/np.cos(i)\n",
    "    yy = yyp/np.cos(i)\n",
    "    rr = np.sqrt(xx**2+yy**2)*pix_to_au # au\n",
    "    rr_cm = rr*au # cm\n",
    "    theta = np.arctan2(yy,xx)\n",
    "\n",
    "        # projected line of sight velocity at x',y'\n",
    "    vel_thin = np.sqrt(G*mstar/rr_cm)*np.sin(i)*np.cos(theta) # cm/s\n",
    "    vel_thin /= 1e5 # km/s\n",
    "    \n",
    "        # rotate\n",
    "    vel_thin = rotate(vel_thin,-pa, reshape=False)\n",
    "\n",
    "        ###########################################################\n",
    "        # Flared disk -> cone\n",
    "\n",
    "        # intersection of line with cone:\n",
    "        # yp = (y - t*sin(i))*cosi\n",
    "        # zp = t*cos(i)\n",
    "        # where t are the solution of a line intersecting a cone\n",
    "        # t**2 * (np.cos(2*i) + np.cos(2*phi)) - 2*np.sin(phi)**2 * (xxp**2 + yyp**2*np.sec(i)**2 + 2*t*yyp*np.tan(i)) = 0\n",
    "        # The positive and negative roots of this equation correspond tothe near and far halves\n",
    "        # of the double cone, respectively\n",
    "\n",
    "        # solve for t\n",
    "    def f(t,ixp,iyp):\n",
    "        return (np.cos(2*i) + np.cos(2*phi))*t**2 - (2*np.sin(phi)**2*2*iyp*np.tan(i))*t - (2*np.sin(phi)**2*(ixp**2 + iyp**2*seci**2 ))\n",
    "\n",
    "    seci = 1/np.cos(i)\n",
    "    tt_near = np.zeros(yyp.shape) # near side of the disk\n",
    "    tt_far = np.zeros(yyp.shape) # far side of the disk\n",
    "\n",
    "    for ix in range(nx):\n",
    "        for iy in range(ny):\n",
    "            sol = optimize.root(f, [0.], args=(xxp[ix,iy],yyp[ix,iy]), method='lm')\n",
    "            if np.degrees(i)<180:\n",
    "                tt_near[ix,iy] = np.abs(sol.x) # au\n",
    "                tt_far[ix,iy] = -np.abs(sol.x)\n",
    "            else:\n",
    "                tt_far[ix,iy] = np.abs(sol.x) # au\n",
    "                tt_near[ix,iy] = -np.abs(sol.x)\n",
    "\n",
    "    xx = xxp\n",
    "    yy_near = yyp/np.cos(i) + tt_near*np.sin(i)\n",
    "    zz_near = tt_near*np.cos(i)\n",
    "    rr_near = np.sqrt(xx**2+yy_near**2+zz_near**2)*pix_to_au # au\n",
    "    #rr_pos = np.sqrt(xx**2+yy_pos**2) # au\n",
    "    rr_near_cm = rr_near*au # cm\n",
    "    theta_near = np.arctan2(yy_near,xx)\n",
    "\n",
    "    yy_far = yyp/np.cos(i) + tt_far*np.sin(i)\n",
    "    zz_far = tt_far*np.cos(i)\n",
    "    rr_far = np.sqrt(xx**2+yy_far**2+zz_far**2)*pix_to_au # au\n",
    "    #rr_neg = np.sqrt(xx**2+yy_neg**2) # au\n",
    "    rr_far_cm = rr_far*au # cm\n",
    "    theta_far = np.arctan2(yy_far,xx)\n",
    "\n",
    "    vel_near = np.sqrt(G*mstar/rr_near_cm)*np.sin(i)*np.cos(theta_near)/1e5 # km/s\n",
    "    vel_far = np.sqrt(G*mstar/rr_far_cm)*np.sin(i)*np.cos(theta_far)/1e5 # km/s\n",
    "\n",
    "        # rotate\n",
    "    vel_near = rotate(vel_near,pa, reshape=False)\n",
    "    vel_far = rotate(vel_far,pa, reshape=False)\n",
    "\n",
    "    \n",
    "        # Plot\n",
    "    mask_contour_near = rotate(rr_near, pa, reshape=False)[:][:]>border\n",
    "    mask_contour_far= rotate(rr_far, pa, reshape=False)[:][:]>border\n",
    "    mask_contour_thin = rotate(rr, pa, reshape=False)[:][:]>border\n",
    "    ext=[0,2*Rmax,0,2*Rmax]\n",
    "    #ext=[-Rmax,Rmax,-Rmax,Rmax]\n",
    "    vel_near = np.ma.array(vel_near, mask=mask_contour_near)\n",
    "    vel_far = np.ma.array(vel_far, mask=mask_contour_far)\n",
    "    vel_thin = np.ma.array(vel_thin, mask=mask_contour_thin)\n",
    "\n",
    "    return vel_near, vel_far, vel_thin"
   ]
  },
  {
   "cell_type": "code",
   "execution_count": 119,
   "metadata": {},
   "outputs": [
    {
     "output_type": "error",
     "ename": "NameError",
     "evalue": "name 'Rmax' is not defined",
     "traceback": [
      "\u001b[0;31m---------------------------------------------------------------------------\u001b[0m",
      "\u001b[0;31mNameError\u001b[0m                                 Traceback (most recent call last)",
      "\u001b[0;32m<ipython-input-119-3bc225b02cd9>\u001b[0m in \u001b[0;36m<module>\u001b[0;34m\u001b[0m\n\u001b[1;32m     12\u001b[0m \u001b[0mpa\u001b[0m \u001b[0;34m=\u001b[0m \u001b[0mnp\u001b[0m\u001b[0;34m.\u001b[0m\u001b[0mradians\u001b[0m\u001b[0;34m(\u001b[0m\u001b[0mpa\u001b[0m\u001b[0;34m)\u001b[0m\u001b[0;34m\u001b[0m\u001b[0;34m\u001b[0m\u001b[0m\n\u001b[1;32m     13\u001b[0m \u001b[0;34m\u001b[0m\u001b[0m\n\u001b[0;32m---> 14\u001b[0;31m \u001b[0mvel_thin\u001b[0m\u001b[0;34m,\u001b[0m \u001b[0mvel_front\u001b[0m\u001b[0;34m,\u001b[0m \u001b[0mvel_back\u001b[0m \u001b[0;34m=\u001b[0m \u001b[0misovel\u001b[0m\u001b[0;34m(\u001b[0m\u001b[0mphi\u001b[0m\u001b[0;34m,\u001b[0m \u001b[0mborder\u001b[0m\u001b[0;34m,\u001b[0m \u001b[0minc\u001b[0m\u001b[0;34m,\u001b[0m \u001b[0mpa\u001b[0m\u001b[0;34m)\u001b[0m\u001b[0;34m\u001b[0m\u001b[0;34m\u001b[0m\u001b[0m\n\u001b[0m\u001b[1;32m     15\u001b[0m \u001b[0mprint\u001b[0m\u001b[0;34m(\u001b[0m\u001b[0mvel_thin\u001b[0m\u001b[0;34m,\u001b[0m \u001b[0mvel_front\u001b[0m\u001b[0;34m,\u001b[0m \u001b[0mvel_back\u001b[0m\u001b[0;34m)\u001b[0m\u001b[0;34m\u001b[0m\u001b[0;34m\u001b[0m\u001b[0m\n\u001b[1;32m     16\u001b[0m \u001b[0;34m\u001b[0m\u001b[0m\n",
      "\u001b[0;32m<ipython-input-118-201972684ee8>\u001b[0m in \u001b[0;36misovel\u001b[0;34m(phi, border, i, pa)\u001b[0m\n\u001b[1;32m      2\u001b[0m         \u001b[0;31m# projected coordinates (should be xprime, yprime)\u001b[0m\u001b[0;34m\u001b[0m\u001b[0;34m\u001b[0m\u001b[0;34m\u001b[0m\u001b[0m\n\u001b[1;32m      3\u001b[0m     \u001b[0mnx\u001b[0m\u001b[0;34m,\u001b[0m \u001b[0mny\u001b[0m \u001b[0;34m=\u001b[0m \u001b[0;34m(\u001b[0m\u001b[0;36m300\u001b[0m\u001b[0;34m,\u001b[0m\u001b[0;36m300\u001b[0m\u001b[0;34m)\u001b[0m\u001b[0;34m\u001b[0m\u001b[0;34m\u001b[0m\u001b[0m\n\u001b[0;32m----> 4\u001b[0;31m     \u001b[0mxp\u001b[0m \u001b[0;34m=\u001b[0m \u001b[0mnp\u001b[0m\u001b[0;34m.\u001b[0m\u001b[0mlinspace\u001b[0m\u001b[0;34m(\u001b[0m\u001b[0;34m-\u001b[0m\u001b[0mRmax\u001b[0m\u001b[0;34m,\u001b[0m \u001b[0mRmax\u001b[0m\u001b[0;34m,\u001b[0m \u001b[0mnx\u001b[0m\u001b[0;34m)\u001b[0m\u001b[0;34m\u001b[0m\u001b[0;34m\u001b[0m\u001b[0m\n\u001b[0m\u001b[1;32m      5\u001b[0m     \u001b[0myp\u001b[0m \u001b[0;34m=\u001b[0m \u001b[0mnp\u001b[0m\u001b[0;34m.\u001b[0m\u001b[0mlinspace\u001b[0m\u001b[0;34m(\u001b[0m\u001b[0;34m-\u001b[0m\u001b[0mRmax\u001b[0m\u001b[0;34m,\u001b[0m \u001b[0mRmax\u001b[0m\u001b[0;34m,\u001b[0m \u001b[0mny\u001b[0m\u001b[0;34m)\u001b[0m\u001b[0;34m\u001b[0m\u001b[0;34m\u001b[0m\u001b[0m\n\u001b[1;32m      6\u001b[0m     \u001b[0mxxp\u001b[0m\u001b[0;34m,\u001b[0m \u001b[0myyp\u001b[0m \u001b[0;34m=\u001b[0m \u001b[0mnp\u001b[0m\u001b[0;34m.\u001b[0m\u001b[0mmeshgrid\u001b[0m\u001b[0;34m(\u001b[0m\u001b[0mxp\u001b[0m\u001b[0;34m,\u001b[0m \u001b[0myp\u001b[0m\u001b[0;34m)\u001b[0m\u001b[0;34m\u001b[0m\u001b[0;34m\u001b[0m\u001b[0m\n",
      "\u001b[0;31mNameError\u001b[0m: name 'Rmax' is not defined"
     ]
    }
   ],
   "source": [
    "mstar, pa, inc, z0, psi, vlsr =(1.2047920150052118, 325.15077530944075, 46.41703391829195, 0.2494024079038776, 1.211576566441788, 4.741979863714648)\n",
    "vels_lev = np.array([3,3.7,4.4,5.1,5.8,6.5])\n",
    "pa = pa-180\n",
    "phi = np.arctan(z0*1**psi)\n",
    "\n",
    "R_max=300\n",
    "v_max=5\n",
    "nx=300\n",
    "ny=300\n",
    "\n",
    "pix_size = 2.9e-3\n",
    "par=6.341708607533389 #mas\n",
    "d = 1000/par #pc\n",
    "pix_to_au = (pix_size*d)\n",
    "border=500\n",
    "Rmax=\n",
    "inc = np.radians(inc)\n",
    "pa = np.radians(pa)\n",
    "\n",
    "vel_thin, vel_front, vel_back = isovel(phi, border, inc, pa)\n",
    "print(vel_thin, vel_front, vel_back)\n",
    "\n",
    "##################\n",
    "\n",
    "sizefig = (10., 6.)\n",
    "\n",
    "j_range = [30, 31, 32]\n",
    "channels= np.arange(-7.99991, 16.1501, 0.35)\n",
    "\n",
    "path = '/Volumes/Transcend/J1615_2020/DataWork/Results/CO/'\n",
    "name_12CO = path+'J1615_12CO_im_uv006'\n",
    "fits_image = name_12CO +'.fits'\n",
    "\n",
    "border = 550.\n",
    "\n",
    "\n",
    "image_1 = fits.open(fits_image)\n",
    "data_1 = image_1[0].data[0][0]\n",
    "imsize_1 = len(data_1[0])\n",
    "Rmax = imsize_1/2. # pix\n",
    "\n",
    "\n",
    "fig, axs = plt.subplots(3, 3, sharey=True, figsize=(16, 16))\n",
    "for i in range(32,41):\n",
    "    b=i-32\n",
    "    a=0\n",
    "    if b>2:\n",
    "        a=1\n",
    "        b=i-32-3\n",
    "    if b>2:\n",
    "        a=2\n",
    "        b=i-32-6\n",
    "    \n",
    "    image_1 = fits.open(fits_image)\n",
    "    data_1 = image_1[0].data[0][i]\n",
    "    header = image_1[0].header\n",
    "    \n",
    "    pixscales=np.abs(3600*header['CDELT2'])\n",
    "    arcs = imsize_1/2.*pixscales\n",
    "\n",
    "    chan = i#j_range[0]\n",
    "    image_12mm = np.zeros([imsize_1, imsize_1])\n",
    "    image_12mm[:][:] = data_1[:][:]\n",
    "    \n",
    "    \n",
    "    vels_lev = np.array([channels[chan]])-vlsr\n",
    "    axs[a,b].imshow(image_12mm,origin='lower', cmap='gist_heat', vmin=0, vmax=0.03, extent=[arcs,-arcs,-arcs,arcs])#, norm=colors.PowerNorm(gamma=gval),vmin=rms,vmax=maxi)\n",
    "    axs[a,b].contour(vel_front,vels_lev,origin='lower',colors='cyan',linestyles='dashed',linewidths=2.1, extent=[arcs,-arcs,-arcs,arcs], corner_mask=True)\n",
    "    axs[a,b].contour(vel_back,vels_lev,origin='lower',colors='cyan',linestyles='dotted',linewidths=1.2, extent=[arcs,-arcs,-arcs,arcs], corner_mask=True)\n",
    "    axs[a,b].set_xlim(3, -3)\n",
    "    axs[a,b].set_ylim(-3, 3)\n",
    "\n",
    "fig.savefig('J1615_isovelocities_2.png',dpi=600)"
   ]
  },
  {
   "cell_type": "code",
   "execution_count": null,
   "metadata": {},
   "outputs": [],
   "source": []
  }
 ],
 "metadata": {
  "language_info": {
   "codemirror_mode": {
    "name": "ipython",
    "version": 3
   },
   "file_extension": ".py",
   "mimetype": "text/x-python",
   "name": "python",
   "nbconvert_exporter": "python",
   "pygments_lexer": "ipython3",
   "version": "3.6.10-final"
  },
  "orig_nbformat": 2,
  "kernelspec": {
   "name": "python3",
   "display_name": "Python 3"
  }
 },
 "nbformat": 4,
 "nbformat_minor": 2
}